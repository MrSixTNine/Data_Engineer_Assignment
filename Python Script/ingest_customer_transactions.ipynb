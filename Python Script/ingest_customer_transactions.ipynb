{
 "cells": [
  {
   "cell_type": "code",
   "execution_count": 2,
   "metadata": {},
   "outputs": [],
   "source": [
    "import json\n",
    "import pandas as pd\n",
    "import os\n",
    "import psycopg2\n",
    "from shared_functions import *\n",
    "import sys\n",
    "from pathlib import Path"
   ]
  },
  {
   "cell_type": "code",
   "execution_count": 3,
   "metadata": {},
   "outputs": [],
   "source": [
    "\n",
    "table_name = 'customer_transactions'\n",
    "schema_name = 'pre_prd'"
   ]
  },
  {
   "cell_type": "code",
   "execution_count": 4,
   "metadata": {},
   "outputs": [],
   "source": [
    "# Function for data cleaning and transformation\n",
    "def clean_and_transform(df):\n",
    "    # Example: Drop rows with missing values and convert field1 to uppercase\n",
    "    df_cleaned = df.dropna(subset=['field1', 'field2', 'field3'])\n",
    "    df_cleaned['field1'] = df_cleaned['field1'].str.upper()\n",
    "    return df_cleaned\n"
   ]
  },
  {
   "cell_type": "code",
   "execution_count": 5,
   "metadata": {},
   "outputs": [
    {
     "name": "stdout",
     "output_type": "stream",
     "text": [
      "c:\\Users\\User\\Desktop\\Data_Engineer_Assignment\\Python Script\n"
     ]
    }
   ],
   "source": [
    "# Get the current directory (where this script is located)\n",
    "current_dir = Path(sys.path[0])\n",
    "print(current_dir)\n",
    "\n",
    "\n",
    "# Construct the relative path to the JSON file\n",
    "file_name = 'customer_transactions[2].json'\n",
    "file_path = os.path.join(current_dir, '..', 'Sources', file_name)"
   ]
  },
  {
   "cell_type": "code",
   "execution_count": 13,
   "metadata": {},
   "outputs": [],
   "source": [
    "with open(file_path, 'r') as file:\n",
    "    data = json.load(file)\n",
    "\n",
    "df = pd.DataFrame(data)"
   ]
  },
  {
   "cell_type": "code",
   "execution_count": 14,
   "metadata": {},
   "outputs": [],
   "source": [
    "df['transaction_id'] = df['transaction_id'].astype(str)\n",
    "df['customer_id'] = df['customer_id'].astype(str)\n",
    "df['product_id'] = df['product_id'].astype(str)\n",
    "df['quantity'] = df['quantity'].astype(int)\n",
    "df['price'] = df['price'].astype(float)\n",
    "df['timestamp'] = pd.to_datetime(df['timestamp'])"
   ]
  },
  {
   "cell_type": "code",
   "execution_count": 15,
   "metadata": {},
   "outputs": [],
   "source": [
    "df = df.drop_duplicates(subset='transaction_id', keep=\"first\")"
   ]
  },
  {
   "cell_type": "code",
   "execution_count": 16,
   "metadata": {},
   "outputs": [
    {
     "data": {
      "text/html": [
       "<div>\n",
       "<style scoped>\n",
       "    .dataframe tbody tr th:only-of-type {\n",
       "        vertical-align: middle;\n",
       "    }\n",
       "\n",
       "    .dataframe tbody tr th {\n",
       "        vertical-align: top;\n",
       "    }\n",
       "\n",
       "    .dataframe thead th {\n",
       "        text-align: right;\n",
       "    }\n",
       "</style>\n",
       "<table border=\"1\" class=\"dataframe\">\n",
       "  <thead>\n",
       "    <tr style=\"text-align: right;\">\n",
       "      <th></th>\n",
       "      <th>transaction_id</th>\n",
       "      <th>customer_id</th>\n",
       "      <th>product_id</th>\n",
       "      <th>quantity</th>\n",
       "      <th>price</th>\n",
       "      <th>timestamp</th>\n",
       "    </tr>\n",
       "  </thead>\n",
       "  <tbody>\n",
       "    <tr>\n",
       "      <th>0</th>\n",
       "      <td>b1182d23-5bf8-4676-9f12-a0e912011caa</td>\n",
       "      <td>C001</td>\n",
       "      <td>P003</td>\n",
       "      <td>6</td>\n",
       "      <td>150.0</td>\n",
       "      <td>2024-02-04 13:06:35</td>\n",
       "    </tr>\n",
       "    <tr>\n",
       "      <th>1</th>\n",
       "      <td>3b019fcb-f96d-4403-948c-93f3028d042b</td>\n",
       "      <td>C003</td>\n",
       "      <td>P001</td>\n",
       "      <td>10</td>\n",
       "      <td>100.0</td>\n",
       "      <td>2024-06-22 11:42:33</td>\n",
       "    </tr>\n",
       "    <tr>\n",
       "      <th>2</th>\n",
       "      <td>346d2b7e-00d3-41af-b53e-0c8624aeba79</td>\n",
       "      <td>C001</td>\n",
       "      <td>P001</td>\n",
       "      <td>5</td>\n",
       "      <td>100.0</td>\n",
       "      <td>2024-03-12 16:16:16</td>\n",
       "    </tr>\n",
       "    <tr>\n",
       "      <th>3</th>\n",
       "      <td>9ad7558f-eecb-425b-864f-768db080e003</td>\n",
       "      <td>C002</td>\n",
       "      <td>P002</td>\n",
       "      <td>3</td>\n",
       "      <td>200.0</td>\n",
       "      <td>2024-03-29 04:01:02</td>\n",
       "    </tr>\n",
       "    <tr>\n",
       "      <th>4</th>\n",
       "      <td>b51d70d8-582d-4972-ba08-9ca81cc5a8a0</td>\n",
       "      <td>C003</td>\n",
       "      <td>P002</td>\n",
       "      <td>1</td>\n",
       "      <td>200.0</td>\n",
       "      <td>2024-02-10 09:54:36</td>\n",
       "    </tr>\n",
       "  </tbody>\n",
       "</table>\n",
       "</div>"
      ],
      "text/plain": [
       "                         transaction_id customer_id product_id  quantity  \\\n",
       "0  b1182d23-5bf8-4676-9f12-a0e912011caa        C001       P003         6   \n",
       "1  3b019fcb-f96d-4403-948c-93f3028d042b        C003       P001        10   \n",
       "2  346d2b7e-00d3-41af-b53e-0c8624aeba79        C001       P001         5   \n",
       "3  9ad7558f-eecb-425b-864f-768db080e003        C002       P002         3   \n",
       "4  b51d70d8-582d-4972-ba08-9ca81cc5a8a0        C003       P002         1   \n",
       "\n",
       "   price           timestamp  \n",
       "0  150.0 2024-02-04 13:06:35  \n",
       "1  100.0 2024-06-22 11:42:33  \n",
       "2  100.0 2024-03-12 16:16:16  \n",
       "3  200.0 2024-03-29 04:01:02  \n",
       "4  200.0 2024-02-10 09:54:36  "
      ]
     },
     "execution_count": 16,
     "metadata": {},
     "output_type": "execute_result"
    }
   ],
   "source": [
    "df"
   ]
  },
  {
   "cell_type": "code",
   "execution_count": 2,
   "metadata": {},
   "outputs": [
    {
     "ename": "NameError",
     "evalue": "name 'insert_into_postgres' is not defined",
     "output_type": "error",
     "traceback": [
      "\u001b[1;31m---------------------------------------------------------------------------\u001b[0m",
      "\u001b[1;31mNameError\u001b[0m                                 Traceback (most recent call last)",
      "Input \u001b[1;32mIn [2]\u001b[0m, in \u001b[0;36m<cell line: 1>\u001b[1;34m()\u001b[0m\n\u001b[1;32m----> 1\u001b[0m \u001b[43minsert_into_postgres\u001b[49m(df, table_name, \u001b[38;5;124m'\u001b[39m\u001b[38;5;124mpre_prd\u001b[39m\u001b[38;5;124m'\u001b[39m)\n",
      "\u001b[1;31mNameError\u001b[0m: name 'insert_into_postgres' is not defined"
     ]
    }
   ],
   "source": [
    "insert_into_postgres(df, table_name, 'pre_prd')"
   ]
  }
 ],
 "metadata": {
  "kernelspec": {
   "display_name": "base",
   "language": "python",
   "name": "python3"
  },
  "language_info": {
   "codemirror_mode": {
    "name": "ipython",
    "version": 3
   },
   "file_extension": ".py",
   "mimetype": "text/x-python",
   "name": "python",
   "nbconvert_exporter": "python",
   "pygments_lexer": "ipython3",
   "version": "3.9.12"
  }
 },
 "nbformat": 4,
 "nbformat_minor": 2
}
