{
 "cells": [
  {
   "cell_type": "code",
   "execution_count": 1,
   "metadata": {},
   "outputs": [],
   "source": [
    "import json\n",
    "import os\n",
    "import sys\n",
    "import psycopg2\n",
    "from pathlib import Path\n",
    "from sqlalchemy import create_engine\n",
    "from dotenv import load_dotenv\n",
    "import pandas as pd  \n",
    "from shared_functions import *\n"
   ]
  },
  {
   "cell_type": "code",
   "execution_count": 2,
   "metadata": {},
   "outputs": [],
   "source": [
    "table_name = 'customer_transactions'\n",
    "schema_name = 'pre_prd'"
   ]
  },
  {
   "cell_type": "code",
   "execution_count": 3,
   "metadata": {},
   "outputs": [],
   "source": [
    "query = f\"SELECT * FROM {schema_name}.{table_name};\""
   ]
  },
  {
   "cell_type": "code",
   "execution_count": 4,
   "metadata": {},
   "outputs": [],
   "source": [
    "df = get_from_postgres(query)"
   ]
  },
  {
   "cell_type": "code",
   "execution_count": 5,
   "metadata": {},
   "outputs": [
    {
     "data": {
      "text/html": [
       "<div>\n",
       "<style scoped>\n",
       "    .dataframe tbody tr th:only-of-type {\n",
       "        vertical-align: middle;\n",
       "    }\n",
       "\n",
       "    .dataframe tbody tr th {\n",
       "        vertical-align: top;\n",
       "    }\n",
       "\n",
       "    .dataframe thead th {\n",
       "        text-align: right;\n",
       "    }\n",
       "</style>\n",
       "<table border=\"1\" class=\"dataframe\">\n",
       "  <thead>\n",
       "    <tr style=\"text-align: right;\">\n",
       "      <th></th>\n",
       "      <th>transaction_id</th>\n",
       "      <th>customer_id</th>\n",
       "      <th>product_id</th>\n",
       "      <th>quantity</th>\n",
       "      <th>price</th>\n",
       "      <th>timestamp</th>\n",
       "      <th>created_by</th>\n",
       "      <th>created_at</th>\n",
       "      <th>updated_by</th>\n",
       "      <th>updated_at</th>\n",
       "    </tr>\n",
       "  </thead>\n",
       "  <tbody>\n",
       "    <tr>\n",
       "      <th>0</th>\n",
       "      <td>b1182d23-5bf8-4676-9f12-a0e912011caa</td>\n",
       "      <td>C001</td>\n",
       "      <td>P003</td>\n",
       "      <td>6</td>\n",
       "      <td>150.0</td>\n",
       "      <td>2024-02-04 13:06:35</td>\n",
       "      <td>Admin</td>\n",
       "      <td>2024-07-07 02:14:36.063906</td>\n",
       "      <td>Admin</td>\n",
       "      <td>2024-07-07 02:14:36.063906</td>\n",
       "    </tr>\n",
       "    <tr>\n",
       "      <th>1</th>\n",
       "      <td>3b019fcb-f96d-4403-948c-93f3028d042b</td>\n",
       "      <td>C003</td>\n",
       "      <td>P001</td>\n",
       "      <td>10</td>\n",
       "      <td>100.0</td>\n",
       "      <td>2024-06-22 11:42:33</td>\n",
       "      <td>Admin</td>\n",
       "      <td>2024-07-07 02:14:36.063906</td>\n",
       "      <td>Admin</td>\n",
       "      <td>2024-07-07 02:14:36.063906</td>\n",
       "    </tr>\n",
       "    <tr>\n",
       "      <th>2</th>\n",
       "      <td>346d2b7e-00d3-41af-b53e-0c8624aeba79</td>\n",
       "      <td>C001</td>\n",
       "      <td>P001</td>\n",
       "      <td>5</td>\n",
       "      <td>100.0</td>\n",
       "      <td>2024-03-12 16:16:16</td>\n",
       "      <td>Admin</td>\n",
       "      <td>2024-07-07 02:14:36.063906</td>\n",
       "      <td>Admin</td>\n",
       "      <td>2024-07-07 02:14:36.063906</td>\n",
       "    </tr>\n",
       "    <tr>\n",
       "      <th>3</th>\n",
       "      <td>9ad7558f-eecb-425b-864f-768db080e003</td>\n",
       "      <td>C002</td>\n",
       "      <td>P002</td>\n",
       "      <td>3</td>\n",
       "      <td>200.0</td>\n",
       "      <td>2024-03-29 04:01:02</td>\n",
       "      <td>Admin</td>\n",
       "      <td>2024-07-07 02:14:36.063906</td>\n",
       "      <td>Admin</td>\n",
       "      <td>2024-07-07 02:14:36.063906</td>\n",
       "    </tr>\n",
       "    <tr>\n",
       "      <th>4</th>\n",
       "      <td>b51d70d8-582d-4972-ba08-9ca81cc5a8a0</td>\n",
       "      <td>C003</td>\n",
       "      <td>P002</td>\n",
       "      <td>1</td>\n",
       "      <td>200.0</td>\n",
       "      <td>2024-02-10 09:54:36</td>\n",
       "      <td>Admin</td>\n",
       "      <td>2024-07-07 02:14:36.063906</td>\n",
       "      <td>Admin</td>\n",
       "      <td>2024-07-07 02:14:36.063906</td>\n",
       "    </tr>\n",
       "  </tbody>\n",
       "</table>\n",
       "</div>"
      ],
      "text/plain": [
       "                         transaction_id customer_id product_id  quantity  \\\n",
       "0  b1182d23-5bf8-4676-9f12-a0e912011caa        C001       P003         6   \n",
       "1  3b019fcb-f96d-4403-948c-93f3028d042b        C003       P001        10   \n",
       "2  346d2b7e-00d3-41af-b53e-0c8624aeba79        C001       P001         5   \n",
       "3  9ad7558f-eecb-425b-864f-768db080e003        C002       P002         3   \n",
       "4  b51d70d8-582d-4972-ba08-9ca81cc5a8a0        C003       P002         1   \n",
       "\n",
       "   price           timestamp created_by                 created_at updated_by  \\\n",
       "0  150.0 2024-02-04 13:06:35      Admin 2024-07-07 02:14:36.063906      Admin   \n",
       "1  100.0 2024-06-22 11:42:33      Admin 2024-07-07 02:14:36.063906      Admin   \n",
       "2  100.0 2024-03-12 16:16:16      Admin 2024-07-07 02:14:36.063906      Admin   \n",
       "3  200.0 2024-03-29 04:01:02      Admin 2024-07-07 02:14:36.063906      Admin   \n",
       "4  200.0 2024-02-10 09:54:36      Admin 2024-07-07 02:14:36.063906      Admin   \n",
       "\n",
       "                  updated_at  \n",
       "0 2024-07-07 02:14:36.063906  \n",
       "1 2024-07-07 02:14:36.063906  \n",
       "2 2024-07-07 02:14:36.063906  \n",
       "3 2024-07-07 02:14:36.063906  \n",
       "4 2024-07-07 02:14:36.063906  "
      ]
     },
     "execution_count": 5,
     "metadata": {},
     "output_type": "execute_result"
    }
   ],
   "source": [
    "df"
   ]
  }
 ],
 "metadata": {
  "kernelspec": {
   "display_name": "base",
   "language": "python",
   "name": "python3"
  },
  "language_info": {
   "codemirror_mode": {
    "name": "ipython",
    "version": 3
   },
   "file_extension": ".py",
   "mimetype": "text/x-python",
   "name": "python",
   "nbconvert_exporter": "python",
   "pygments_lexer": "ipython3",
   "version": "3.10.0"
  }
 },
 "nbformat": 4,
 "nbformat_minor": 2
}
