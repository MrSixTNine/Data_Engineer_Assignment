{
 "cells": [
  {
   "cell_type": "code",
   "execution_count": 1,
   "metadata": {},
   "outputs": [],
   "source": [
    "import json\n",
    "import os\n",
    "import sys\n",
    "import psycopg2\n",
    "from pathlib import Path\n",
    "from sqlalchemy import create_engine\n",
    "from dotenv import load_dotenv\n",
    "import pandas as pd  \n",
    "from shared_functions import *\n"
   ]
  },
  {
   "cell_type": "code",
   "execution_count": 9,
   "metadata": {},
   "outputs": [],
   "source": [
    "table_customer_transasctions = 'customer_transactions'\n",
    "table_product_catalog = 'product_catalog'\n",
    "schema_pre_prd = 'pre_prd'"
   ]
  },
  {
   "cell_type": "code",
   "execution_count": 47,
   "metadata": {},
   "outputs": [],
   "source": [
    "query = f\"\"\"SELECT ct.transaction_id, ct.customer_id, ct.product_id, pc.product_name, pc.category ,ct.quantity, ct.price, CAST(ct.timestamp AS DATE) AS transaction_date\n",
    "          FROM {schema_pre_prd}.{table_customer_transasctions} ct\n",
    "          LEFT JOIN {schema_pre_prd}.{table_product_catalog} pc\n",
    "          ON ct.product_id = pc.product_id\"\"\""
   ]
  },
  {
   "cell_type": "code",
   "execution_count": 48,
   "metadata": {},
   "outputs": [],
   "source": [
    "df = get_from_postgres(query)"
   ]
  },
  {
   "cell_type": "code",
   "execution_count": 50,
   "metadata": {},
   "outputs": [],
   "source": [
    "df['total_price']= df['quantity'] * df['price']"
   ]
  },
  {
   "cell_type": "code",
   "execution_count": 51,
   "metadata": {},
   "outputs": [],
   "source": [
    "new_columns = ['transaction_id', 'customer_id', 'product_id', 'product_name', 'category', 'quantity', 'price', 'total_price', 'transaction_date']\n",
    "df = df.reindex(columns = new_columns)"
   ]
  },
  {
   "cell_type": "code",
   "execution_count": 52,
   "metadata": {},
   "outputs": [
    {
     "data": {
      "text/html": [
       "<div>\n",
       "<style scoped>\n",
       "    .dataframe tbody tr th:only-of-type {\n",
       "        vertical-align: middle;\n",
       "    }\n",
       "\n",
       "    .dataframe tbody tr th {\n",
       "        vertical-align: top;\n",
       "    }\n",
       "\n",
       "    .dataframe thead th {\n",
       "        text-align: right;\n",
       "    }\n",
       "</style>\n",
       "<table border=\"1\" class=\"dataframe\">\n",
       "  <thead>\n",
       "    <tr style=\"text-align: right;\">\n",
       "      <th></th>\n",
       "      <th>transaction_id</th>\n",
       "      <th>customer_id</th>\n",
       "      <th>product_id</th>\n",
       "      <th>product_name</th>\n",
       "      <th>category</th>\n",
       "      <th>quantity</th>\n",
       "      <th>price</th>\n",
       "      <th>total_price</th>\n",
       "      <th>transaction_date</th>\n",
       "    </tr>\n",
       "  </thead>\n",
       "  <tbody>\n",
       "    <tr>\n",
       "      <th>0</th>\n",
       "      <td>b1182d23-5bf8-4676-9f12-a0e912011caa</td>\n",
       "      <td>C001</td>\n",
       "      <td>P003</td>\n",
       "      <td>Product 3</td>\n",
       "      <td>Category A</td>\n",
       "      <td>6</td>\n",
       "      <td>150.0</td>\n",
       "      <td>900.0</td>\n",
       "      <td>2024-02-04</td>\n",
       "    </tr>\n",
       "    <tr>\n",
       "      <th>1</th>\n",
       "      <td>3b019fcb-f96d-4403-948c-93f3028d042b</td>\n",
       "      <td>C003</td>\n",
       "      <td>P001</td>\n",
       "      <td>Product 1</td>\n",
       "      <td>Category A</td>\n",
       "      <td>10</td>\n",
       "      <td>100.0</td>\n",
       "      <td>1000.0</td>\n",
       "      <td>2024-06-22</td>\n",
       "    </tr>\n",
       "    <tr>\n",
       "      <th>2</th>\n",
       "      <td>346d2b7e-00d3-41af-b53e-0c8624aeba79</td>\n",
       "      <td>C001</td>\n",
       "      <td>P001</td>\n",
       "      <td>Product 1</td>\n",
       "      <td>Category A</td>\n",
       "      <td>5</td>\n",
       "      <td>100.0</td>\n",
       "      <td>500.0</td>\n",
       "      <td>2024-03-12</td>\n",
       "    </tr>\n",
       "    <tr>\n",
       "      <th>3</th>\n",
       "      <td>9ad7558f-eecb-425b-864f-768db080e003</td>\n",
       "      <td>C002</td>\n",
       "      <td>P002</td>\n",
       "      <td>Product 2</td>\n",
       "      <td>Category B</td>\n",
       "      <td>3</td>\n",
       "      <td>200.0</td>\n",
       "      <td>600.0</td>\n",
       "      <td>2024-03-29</td>\n",
       "    </tr>\n",
       "    <tr>\n",
       "      <th>4</th>\n",
       "      <td>b51d70d8-582d-4972-ba08-9ca81cc5a8a0</td>\n",
       "      <td>C003</td>\n",
       "      <td>P002</td>\n",
       "      <td>Product 2</td>\n",
       "      <td>Category B</td>\n",
       "      <td>1</td>\n",
       "      <td>200.0</td>\n",
       "      <td>200.0</td>\n",
       "      <td>2024-02-10</td>\n",
       "    </tr>\n",
       "  </tbody>\n",
       "</table>\n",
       "</div>"
      ],
      "text/plain": [
       "                         transaction_id customer_id product_id product_name  \\\n",
       "0  b1182d23-5bf8-4676-9f12-a0e912011caa        C001       P003    Product 3   \n",
       "1  3b019fcb-f96d-4403-948c-93f3028d042b        C003       P001    Product 1   \n",
       "2  346d2b7e-00d3-41af-b53e-0c8624aeba79        C001       P001    Product 1   \n",
       "3  9ad7558f-eecb-425b-864f-768db080e003        C002       P002    Product 2   \n",
       "4  b51d70d8-582d-4972-ba08-9ca81cc5a8a0        C003       P002    Product 2   \n",
       "\n",
       "     category  quantity  price  total_price transaction_date  \n",
       "0  Category A         6  150.0        900.0       2024-02-04  \n",
       "1  Category A        10  100.0       1000.0       2024-06-22  \n",
       "2  Category A         5  100.0        500.0       2024-03-12  \n",
       "3  Category B         3  200.0        600.0       2024-03-29  \n",
       "4  Category B         1  200.0        200.0       2024-02-10  "
      ]
     },
     "execution_count": 52,
     "metadata": {},
     "output_type": "execute_result"
    }
   ],
   "source": [
    "df"
   ]
  },
  {
   "cell_type": "code",
   "execution_count": null,
   "metadata": {},
   "outputs": [],
   "source": []
  }
 ],
 "metadata": {
  "kernelspec": {
   "display_name": "base",
   "language": "python",
   "name": "python3"
  },
  "language_info": {
   "codemirror_mode": {
    "name": "ipython",
    "version": 3
   },
   "file_extension": ".py",
   "mimetype": "text/x-python",
   "name": "python",
   "nbconvert_exporter": "python",
   "pygments_lexer": "ipython3",
   "version": "3.10.0"
  }
 },
 "nbformat": 4,
 "nbformat_minor": 2
}
